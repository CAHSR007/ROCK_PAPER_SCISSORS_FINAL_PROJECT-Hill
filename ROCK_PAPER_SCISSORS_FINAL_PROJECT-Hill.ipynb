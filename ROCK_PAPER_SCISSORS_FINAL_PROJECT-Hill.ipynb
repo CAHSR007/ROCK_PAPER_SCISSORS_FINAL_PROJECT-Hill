{
 "cells": [
  {
   "cell_type": "code",
   "execution_count": 1,
   "id": "37e70417",
   "metadata": {},
   "outputs": [
    {
     "name": "stdout",
     "output_type": "stream",
     "text": [
      "Enter your choice ROCK, PAPER or SCISSORS, shoot:  rock\n",
      "The computer chooses scissors.\n",
      "You win!\n",
      "Would you like to play again? Enter yes or no: yes\n",
      "Enter your choice ROCK, PAPER or SCISSORS, shoot:  paper\n",
      "The computer chooses paper.\n",
      "DRAW, no winner!\n",
      "Would you like to play again? Enter yes or no: yes\n",
      "Enter your choice ROCK, PAPER or SCISSORS, shoot:  go\n",
      "Invalid choice. Please enter either 'rock', 'paper', or 'scissors'.\n",
      "Enter your choice ROCK, PAPER or SCISSORS, shoot:  man\n",
      "Invalid choice. Please enter either 'rock', 'paper', or 'scissors'.\n",
      "Enter your choice ROCK, PAPER or SCISSORS, shoot:  paper\n",
      "The computer chooses rock.\n",
      "You win!\n",
      "Would you like to play again? Enter yes or no: no\n",
      "Thank you for playing.\n"
     ]
    }
   ],
   "source": [
    "import random\n",
    "\n",
    "def play_game():\n",
    "    game_list = ['rock', 'paper', 'scissors']\n",
    "\n",
    "    while True:\n",
    "        player_choice = input(\"Enter your choice ROCK, PAPER or SCISSORS, shoot:  \")\n",
    "        if player_choice in game_list:\n",
    "            break\n",
    "        else:\n",
    "            print(\"Invalid choice. Please enter either 'rock', 'paper', or 'scissors'.\") \n",
    "\n",
    "    comp_choice = random.choice(game_list)\n",
    "    print(f\"The computer chooses {comp_choice}.\")\n",
    "    \n",
    "    if player_choice == comp_choice:   # Check for a draw\n",
    "        print(\"DRAW, no winner!\")\n",
    "        \n",
    "    else:                              # Check for  winner  \n",
    "           \n",
    "        if player_choice == 'rock':\n",
    "            if comp_choice == 'paper':\n",
    "                print(\"You lose!\")\n",
    "            else:  # comp_choice must be 'scissors'\n",
    "                print(\"You win!\")\n",
    "        elif player_choice == 'paper':\n",
    "            if comp_choice == 'scissors':\n",
    "                print(\"You lose!\")\n",
    "            else:  # comp_choice must be 'rock'\n",
    "                print(\"You win!\")\n",
    "        else:  # player_choice must be 'scissors'\n",
    "            if comp_choice == 'rock':\n",
    "                print(\"You lose!\")\n",
    "            else:  # comp_choice must be 'paper'\n",
    "                print(\"You win!\")\n",
    "\n",
    "# Keep asking the player if they want to play again until they enter 'no'\n",
    "while True:\n",
    "    play_game()\n",
    "    play_again = input(\"Would you like to play again? Enter yes or no: \")\n",
    "    if play_again == 'no':\n",
    "        print(\"Thank you for playing.\")\n",
    "        break"
   ]
  },
  {
   "cell_type": "code",
   "execution_count": null,
   "id": "bdf3356c",
   "metadata": {},
   "outputs": [],
   "source": []
  }
 ],
 "metadata": {
  "kernelspec": {
   "display_name": "Python 3 (ipykernel)",
   "language": "python",
   "name": "python3"
  },
  "language_info": {
   "codemirror_mode": {
    "name": "ipython",
    "version": 3
   },
   "file_extension": ".py",
   "mimetype": "text/x-python",
   "name": "python",
   "nbconvert_exporter": "python",
   "pygments_lexer": "ipython3",
   "version": "3.11.4"
  }
 },
 "nbformat": 4,
 "nbformat_minor": 5
}
